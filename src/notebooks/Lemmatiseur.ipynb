{
 "cells": [
  {
   "cell_type": "code",
   "execution_count": 1,
   "id": "81d10329-615d-4ab1-bee8-181cdc644f89",
   "metadata": {},
   "outputs": [
    {
     "name": "stdout",
     "output_type": "stream",
     "text": [
      "./Pyrrha/a_corpus-1600.tsv\n",
      "./Pyrrha/b_corpus-3600.tsv\n",
      "./Pyrrha/c_corpus-5048.tsv\n",
      "./Pyrrha/d_corpus-7783.tsv\n",
      "./Pyrrha/e_corpus-10161.tsv\n",
      "./Pyrrha/f_corpus-12638.tsv\n",
      "./Pyrrha/g_corpus-15036.tsv\n",
      "./Pyrrha/h_corpus-16536.tsv\n",
      "./Pyrrha/i_corpus-18045.tsv\n",
      "./Pyrrha/j_corpus-20104.tsv\n",
      "./Pyrrha/k_corpus-22247.tsv\n",
      "./Pyrrha/l_corpus-24147.tsv\n",
      "./Pyrrha/m_corpus-26000.tsv\n",
      "./Pyrrha/n_corpus-28569.tsv\n",
      "./Pyrrha/o_corpus-31660.tsv\n"
     ]
    }
   ],
   "source": [
    "#Solution pour concaténer les fichiers csv issus de Pyrrha\n",
    "import csv\n",
    "import re\n",
    "from unidecode import unidecode\n",
    "import os\n",
    "###Attention à la manière de nommer les CSV:\n",
    "#Pour que le script les lise dans le bon sens, il est important de les renommer de sorte à rajouter une première lettre\n",
    "#Exemple: a/b/c/d/e/...\n",
    "# ./Pyrrha/a_corpus-1600.tsv\n",
    "# ./Pyrrha/b_corpus-3600.tsv\n",
    "# ./Pyrrha/c_corpus-5048.tsv\n",
    "# ./Pyrrha/d_corpus-7783.tsv\n",
    "# ./Pyrrha/e_corpus-10161.tsv\n",
    "\n",
    "# Les fichiers CSV sont enregistrés (relativement) dans le folder ./Pyrrha\n",
    "#Sinon, à changer\n",
    "folder_path = './Pyrrha/'\n",
    "\n",
    "#J'initialise mon text par une chaîne de caractères vide\n",
    "text=\"\"\n",
    "#J'initialise un compteur de mots\n",
    "nb_word = 0\n",
    "\n",
    "# J'itère pour chaque CSV de Pyrrha :\n",
    "for filename in os.listdir(folder_path):\n",
    "    # Je vérifie que c'est un format .tsv\n",
    "    if filename.endswith('.tsv'):\n",
    "        #Si oui, je récupère son chemin par concaténation : ./Pyyrha/nom_du_fichier\n",
    "        file_path = os.path.join(folder_path, filename)\n",
    "        #J'affiche son chemin\n",
    "        print(file_path)\n",
    "        # J'ouvre son contenu en UTF-8 et avec \\t comme séparateur\n",
    "        with open(file_path, 'r', newline='', encoding='utf-8') as csv_file:\n",
    "            csv_reader = csv.reader(csv_file, delimiter='\\t')\n",
    "            # Je saute la première ligne (métadonnées de Pyrrha)\n",
    "            next(csv_reader, None)\n",
    "            # J'itère sur les lignes contenues dans le CSV\n",
    "            for row in csv_reader:\n",
    "                #Pour tous les 20 mots je commence par sauter une ligne\n",
    "                #Attention, 20 est ici un hyperparamètre à régler selon tes besoins\n",
    "                #Plus il est grand et plus grandes (mais moins nombreuses) seront les séquences pour le traitement\n",
    "                if nb_word % 20 ==0:\n",
    "                    #Saut de ligne\n",
    "                    text +=\"\\n\"\n",
    "                    #Je récupère le mot lemmatisé de la ligne que j'ajoute à ma chaîne de caractère\n",
    "                    text += row[1]\n",
    "                    #J'ajoute un espace\n",
    "                    text += \" \"\n",
    "                    #J'ajoute 1 à mon compteur de mots\n",
    "                    nb_word +=1\n",
    "                else :\n",
    "                    #Je fais pareil sans saut de lignes\n",
    "                    text += row[1]\n",
    "                    text += \" \"\n",
    "                    nb_word +=1\n",
    "\n",
    "        \n",
    "# Je crée un fichier texte qui contiendra le corpus lemmatisé de Tertullien\n",
    "with open(\"corpus_lemma.txt\", 'w', encoding='utf-8') as output_file:\n",
    "    output_file.write(text+ '\\n')"
   ]
  }
 ],
 "metadata": {
  "kernelspec": {
   "display_name": "Python 3 (ipykernel)",
   "language": "python",
   "name": "python3"
  },
  "language_info": {
   "codemirror_mode": {
    "name": "ipython",
    "version": 3
   },
   "file_extension": ".py",
   "mimetype": "text/x-python",
   "name": "python",
   "nbconvert_exporter": "python",
   "pygments_lexer": "ipython3",
   "version": "3.9.7"
  }
 },
 "nbformat": 4,
 "nbformat_minor": 5
}
